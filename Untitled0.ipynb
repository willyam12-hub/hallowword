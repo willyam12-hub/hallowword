{
  "nbformat": 4,
  "nbformat_minor": 0,
  "metadata": {
    "colab": {
      "provenance": [],
      "authorship_tag": "ABX9TyNOwZ5SyuS1QoiEx4Eq0N4s",
      "include_colab_link": true
    },
    "kernelspec": {
      "name": "python3",
      "display_name": "Python 3"
    },
    "language_info": {
      "name": "python"
    }
  },
  "cells": [
    {
      "cell_type": "markdown",
      "metadata": {
        "id": "view-in-github",
        "colab_type": "text"
      },
      "source": [
        "<a href=\"https://colab.research.google.com/github/willyam12-hub/hallowword/blob/main/Untitled0.ipynb\" target=\"_parent\"><img src=\"https://colab.research.google.com/assets/colab-badge.svg\" alt=\"Open In Colab\"/></a>"
      ]
    },
    {
      "cell_type": "code",
      "execution_count": 13,
      "metadata": {
        "colab": {
          "base_uri": "https://localhost:8080/",
          "height": 90
        },
        "id": "KgpUW7utu3y7",
        "outputId": "9bab750b-94b1-44ed-c446-72cfa858a10c"
      },
      "outputs": [
        {
          "output_type": "display_data",
          "data": {
            "text/plain": [
              "<IPython.core.display.HTML object>"
            ],
            "text/html": [
              "\n",
              "<!DOCTYPE html>\n",
              "<html>\n",
              "<head>\n",
              "  <title>Home</title>\n",
              "</head>\n",
              "<body>\n",
              "<h2>Selamat Datang di Halaman Home</h2>\n",
              "<p><a href='profil.html'>Profil</a> | \n",
              "<a href='about.html'>About</a> | \n",
              "<a href='galery.html'>Gallery</a> | \n",
              "<a href='kontak.html'>Kontak</a></p>\n",
              "</body>\n",
              "</html>\n"
            ]
          },
          "metadata": {}
        }
      ],
      "source": [
        "from IPython.core.display import display, HTML\n",
        "\n",
        "html_code = \"\"\"\n",
        "<!DOCTYPE html>\n",
        "<html>\n",
        "<head>\n",
        "  <title>Home</title>\n",
        "</head>\n",
        "<body>\n",
        "<h2>Selamat Datang di Halaman Home</h2>\n",
        "<p><a href='profil.html'>Profil</a> |\n",
        "<a href='about.html'>About</a> |\n",
        "<a href='galery.html'>Gallery</a> |\n",
        "<a href='kontak.html'>Kontak</a></p>\n",
        "</body>\n",
        "</html>\n",
        "\"\"\"\n",
        "\n",
        "display(HTML(html_code))\n"
      ]
    },
    {
      "cell_type": "markdown",
      "source": [
        "# Simpan file home.html\n",
        "html_home = \"\"\"\n",
        "<!DOCTYPE html>\n",
        "<html>\n",
        "<head>\n",
        "  <title>Home</title>\n",
        "</head>\n",
        "<body>\n",
        "<h2>Selamat Datang di Halaman Home</h2>\n",
        "<p><a href='profil.html'>Profil</a> |\n",
        "<a href='about.html'>About</a> |\n",
        "<a href='galery.html'>Gallery</a> |\n",
        "<a href='kontak.html'>Kontak</a></p>\n",
        "</body>\n",
        "</html>\n",
        "\"\"\"\n",
        "\n",
        "with open(\"home.html\", \"w\") as f:\n",
        "    f.write(html_home)\n"
      ],
      "metadata": {
        "id": "sELGvmAmu_gr"
      }
    },
    {
      "cell_type": "markdown",
      "source": [
        "from google.colab import files\n",
        "files.download(\"home.html\")\n"
      ],
      "metadata": {
        "id": "uZtKmpQgvDy7"
      }
    },
    {
      "cell_type": "markdown",
      "source": [
        "!mkdir mysite\n",
        "with open(\"mysite/home.html\", \"w\") as f:\n",
        "    f.write(\"<h1>Ini Home</h1><a href='profil.html'>Profil</a>\")\n",
        "\n",
        "with open(\"mysite/profil.html\", \"w\") as f:\n",
        "    f.write(\"<h1>Ini Profil</h1><a href='home.html'>Home</a>\")\n",
        "\n",
        "# Jalankan server\n",
        "!python3 -m http.server --directory mysite 8000\n"
      ],
      "metadata": {
        "id": "hbepg2V6vH1M"
      }
    },
    {
      "cell_type": "markdown",
      "metadata": {
        "id": "b225f374"
      },
      "source": [
        "Untuk menginstal library Python, Anda dapat menggunakan perintah `pip install` diikuti dengan nama library yang ingin diinstal. Misalnya, untuk menginstal library `requests`, Anda bisa menggunakan perintah berikut:"
      ]
    },
    {
      "cell_type": "code",
      "metadata": {
        "colab": {
          "base_uri": "https://localhost:8080/"
        },
        "id": "0cab8d02",
        "outputId": "a34ef6f5-8a12-4d64-9cc4-f81c5665e457"
      },
      "source": [
        "!pip install requests"
      ],
      "execution_count": 14,
      "outputs": [
        {
          "output_type": "stream",
          "name": "stdout",
          "text": [
            "Requirement already satisfied: requests in /usr/local/lib/python3.12/dist-packages (2.28.1)\n",
            "Requirement already satisfied: charset-normalizer<3,>=2 in /usr/local/lib/python3.12/dist-packages (from requests) (2.1.1)\n",
            "Requirement already satisfied: idna<4,>=2.5 in /usr/local/lib/python3.12/dist-packages (from requests) (3.10)\n",
            "Requirement already satisfied: urllib3<1.27,>=1.21.1 in /usr/local/lib/python3.12/dist-packages (from requests) (1.26.20)\n",
            "Requirement already satisfied: certifi>=2017.4.17 in /usr/local/lib/python3.12/dist-packages (from requests) (2025.8.3)\n"
          ]
        }
      ]
    },
    {
      "cell_type": "markdown",
      "metadata": {
        "id": "ea5a00de"
      },
      "source": [
        "Jika Anda ingin menginstal library dengan versi tertentu, Anda bisa menambahkannya setelah nama library:"
      ]
    },
    {
      "cell_type": "code",
      "metadata": {
        "colab": {
          "base_uri": "https://localhost:8080/"
        },
        "id": "316cd424",
        "outputId": "0b08c77e-a1ea-4300-bd0d-2955462db968"
      },
      "source": [
        "!pip install requests==2.28.1"
      ],
      "execution_count": 15,
      "outputs": [
        {
          "output_type": "stream",
          "name": "stdout",
          "text": [
            "Requirement already satisfied: requests==2.28.1 in /usr/local/lib/python3.12/dist-packages (2.28.1)\n",
            "Requirement already satisfied: charset-normalizer<3,>=2 in /usr/local/lib/python3.12/dist-packages (from requests==2.28.1) (2.1.1)\n",
            "Requirement already satisfied: idna<4,>=2.5 in /usr/local/lib/python3.12/dist-packages (from requests==2.28.1) (3.10)\n",
            "Requirement already satisfied: urllib3<1.27,>=1.21.1 in /usr/local/lib/python3.12/dist-packages (from requests==2.28.1) (1.26.20)\n",
            "Requirement already satisfied: certifi>=2017.4.17 in /usr/local/lib/python3.12/dist-packages (from requests==2.28.1) (2025.8.3)\n"
          ]
        }
      ]
    },
    {
      "cell_type": "markdown",
      "metadata": {
        "id": "c0328d96"
      },
      "source": [
        "Anda juga bisa menginstal beberapa library sekaligus dalam satu baris:"
      ]
    },
    {
      "cell_type": "code",
      "metadata": {
        "colab": {
          "base_uri": "https://localhost:8080/"
        },
        "id": "2a294357",
        "outputId": "a7ceca8e-9a99-4533-9dde-77833d7e9240"
      },
      "source": [
        "!pip install requests pandas numpy"
      ],
      "execution_count": 16,
      "outputs": [
        {
          "output_type": "stream",
          "name": "stdout",
          "text": [
            "Requirement already satisfied: requests in /usr/local/lib/python3.12/dist-packages (2.28.1)\n",
            "Requirement already satisfied: pandas in /usr/local/lib/python3.12/dist-packages (2.2.2)\n",
            "Requirement already satisfied: numpy in /usr/local/lib/python3.12/dist-packages (2.0.2)\n",
            "Requirement already satisfied: charset-normalizer<3,>=2 in /usr/local/lib/python3.12/dist-packages (from requests) (2.1.1)\n",
            "Requirement already satisfied: idna<4,>=2.5 in /usr/local/lib/python3.12/dist-packages (from requests) (3.10)\n",
            "Requirement already satisfied: urllib3<1.27,>=1.21.1 in /usr/local/lib/python3.12/dist-packages (from requests) (1.26.20)\n",
            "Requirement already satisfied: certifi>=2017.4.17 in /usr/local/lib/python3.12/dist-packages (from requests) (2025.8.3)\n",
            "Requirement already satisfied: python-dateutil>=2.8.2 in /usr/local/lib/python3.12/dist-packages (from pandas) (2.9.0.post0)\n",
            "Requirement already satisfied: pytz>=2020.1 in /usr/local/lib/python3.12/dist-packages (from pandas) (2025.2)\n",
            "Requirement already satisfied: tzdata>=2022.7 in /usr/local/lib/python3.12/dist-packages (from pandas) (2025.2)\n",
            "Requirement already satisfied: six>=1.5 in /usr/local/lib/python3.12/dist-packages (from python-dateutil>=2.8.2->pandas) (1.17.0)\n"
          ]
        }
      ]
    },
    {
      "cell_type": "markdown",
      "metadata": {
        "id": "86131f61"
      },
      "source": [
        "Setelah library terinstal, Anda bisa mengimpornya dalam kode Python Anda:"
      ]
    },
    {
      "cell_type": "code",
      "metadata": {
        "id": "8589565e"
      },
      "source": [
        "import requests\n",
        "import pandas\n",
        "import numpy"
      ],
      "execution_count": 17,
      "outputs": []
    }
  ]
}